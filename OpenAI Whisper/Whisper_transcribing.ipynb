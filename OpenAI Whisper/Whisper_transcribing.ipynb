{
 "cells": [
  {
   "cell_type": "markdown",
   "id": "1347ff70-98ac-4e31-87ea-cb2bd2bdd446",
   "metadata": {},
   "source": [
    "# Importing OpenAI Whisper"
   ]
  },
  {
   "cell_type": "code",
   "execution_count": 1,
   "id": "8b989cd6",
   "metadata": {},
   "outputs": [],
   "source": [
    "import whisper"
   ]
  },
  {
   "cell_type": "code",
   "execution_count": 4,
   "id": "c01fa0bf",
   "metadata": {},
   "outputs": [],
   "source": [
    "import time"
   ]
  },
  {
   "cell_type": "code",
   "execution_count": 2,
   "id": "03d49d1d",
   "metadata": {},
   "outputs": [],
   "source": [
    "import pytube"
   ]
  },
  {
   "cell_type": "markdown",
   "id": "0a524cbe-4434-4332-927d-f735337708c1",
   "metadata": {},
   "source": [
    "# Transcribe the audio file"
   ]
  },
  {
   "cell_type": "code",
   "execution_count": 3,
   "id": "0c9f8ab5",
   "metadata": {
    "scrolled": true
   },
   "outputs": [
    {
     "name": "stdout",
     "output_type": "stream",
     "text": [
      " If you wanna run away with me I know a galaxy and I could take you so a ride I had a premonition that we fell into a rhythm with the music don't stop for life Glitter in the sky, glitter in my eyes, shining slowly in life If you're feeling like you need a little bit of company you met me at the perfect time You want me, I want you baby, my sugar boo, I'm levitating, don't knock it away, we're really getting yeah yeah yeah yeah yeah I got you, moonlight, you're my starlight, I need you, all night, come on dance with me I'm levitating you, moonlight, you're my starlight, I need you, all night, come on dance with me I'm levitating, I believe that just for me, I feel it in our energy, I see us written in the stars We can go wherever, so let's do it now and ever baby, nothing's ever ever too far Glitter in the sky, glitter in our eyes, shining slowly in life I feel like we're forever, every time we get together, but whatever, let's be lost on Mars You want me, I want you baby, my sugar boo, I'm levitating, don't knock it away, we're really getting yeah yeah yeah yeah I got you, moonlight, you're my starlight, I need you, all night, come on dance with me I'm levitating you, moonlight, you're my starlight, I need you, all night, come on dance with me I'm levitating, if you're vibing at times tonight, baby let me take you for a Constance I'm afraid of having a turning you into eyes, meet you offline, you're my starlight, all night, come on dance with me I'm levitating, if you're vibing at times tonight, baby let me take you for a Constance But I'm feeling so electric, that's my answer And even if I want it to, I can't stop Yeah, yeah, yeah, yeah, yeah My love is like a rocket, won't you blast off? And I'm feeling so electric, that's my answer And even if I want it to, I can't stop Yeah, yeah, yeah, yeah, yeah You want me, I want you baby My sugar boo, I'm levitating The Milky Way, we're in a gated I got you, moonlight, You're my starlight I need you, all night, come on dance on top I'm levitating You can fly away with me tonight You can fly away with me tonight Baby let me take you for a ride Yeah, yeah, yeah, yeah, yeah That's your unf managed love You can fly away with me tonight You can fly away with me tonight Baby let me take you for a ride Yeah, yeah, yeah, yeah, yeah I got you, moonlight, you're my starlight I need you, all night, come on, dance with me I'll never take you, moonlight, you're my starlight I need you, all night, come on, dance with me I'll never take you I need you, all night, come on, dance with me I'll never take you, moonlight, you're my starlight I need you, all night, come on, dance with me\n"
     ]
    }
   ],
   "source": [
    "model = whisper.load_model('small')\n",
    "\n",
    "audio = 'Dua_Lipa_-_Levitating.mp3'\n",
    "\n",
    "transcribe = model.transcribe(audio, fp16=False)\n",
    "\n",
    "print(transcribe['text'])"
   ]
  },
  {
   "cell_type": "markdown",
   "id": "a353b847-9609-46df-9862-7100ebbd3500",
   "metadata": {},
   "source": [
    "# Downloading youtube video "
   ]
  },
  {
   "cell_type": "code",
   "execution_count": 4,
   "id": "8d4e8bfd",
   "metadata": {},
   "outputs": [
    {
     "data": {
      "text/plain": [
       "'C:\\\\Users\\\\Mohan krishnan\\\\Projects\\\\Libraries\\\\OpenAi whisper\\\\Maroon 5 - Animals (Official Music Video).mp4'"
      ]
     },
     "execution_count": 4,
     "metadata": {},
     "output_type": "execute_result"
    }
   ],
   "source": [
    "#importing youtube video \n",
    "\n",
    "video = 'https://youtu.be/qpgTC9MDx1o'\n",
    "\n",
    "data = pytube.YouTube(video)\n",
    "\n",
    "audio = data.streams.get_audio_only()\n",
    "\n",
    "audio.download()"
   ]
  },
  {
   "cell_type": "code",
   "execution_count": 5,
   "id": "3b9b69f5",
   "metadata": {
    "scrolled": true
   },
   "outputs": [
    {
     "name": "stderr",
     "output_type": "stream",
     "text": [
      "C:\\Users\\Mohan krishnan\\anaconda3\\lib\\site-packages\\whisper\\transcribe.py:78: UserWarning: FP16 is not supported on CPU; using FP32 instead\n",
      "  warnings.warn(\"FP16 is not supported on CPU; using FP32 instead\")\n"
     ]
    },
    {
     "name": "stdout",
     "output_type": "stream",
     "text": [
      " Baby I'm So what you try to do to me It's like we can't stop, we're enemies But we get along when I'm inside you You like it, you're the skill in me I cut you out entirely But I get so high when I'm inside you Yeah, you can start over, you can run free You can find another, fish in the sea You can pretend it's meant to be But you can't stay away from me I can still hear you making that sound Taking me down, holding on the ground You can pretend that it was me, but no Oh, baby I'm playing on you tonight Hunt you down, eat you alive Just like animals, animals Like animals' balls Baby you think that you can hide I can smell your self-amazement But you're just like animals, animals Like animals' balls Baby I'm So if I run, it's not enough You're still in my head, forever stuck So you can do what you wanna do I love your lies, I'll eat them up But don't deny the animal That comes alive when I'm inside you Yeah, you can start over, you can run free You can find another, fish in the sea You can pretend it's meant to be But you can't stay away from me I can still hear you making that sound Taking me down, holding on the ground You can pretend that it was me, but no Oh, baby I'm playing on you tonight Hunt you down, eat you alive Just like animals, animals Like animals' balls Baby you think that you can hide I can smell your self-amazement Just like animals, animals Like animals' balls Baby I'm Don't tell no lie, lie, lie, lie You can't deny, deny, deny That beast inside, inside, inside Yeah, yeah, yeah No girl, no lie, no lie, no lie, lie You can't deny, you can't deny That beast inside, inside, inside Yeah, yeah, yeah Yeah, yeah Yo, oh Whoa, oh, oh Whoa, oh, oh Just like animals, animals Like animals' balls Just like animals, animals Like animals' balls Baby I'm playing on you tonight Hunt you down, eat you alive Just like animals, animals Like animals' balls Baby you think that you can hide I can smell your self-amazement Just like animals, animals Like animals' balls Baby I'm Don't tell no lie, lie, lie, lie You can't deny, deny, deny That beast inside, inside, inside Yeah, yeah, yeah No girl, no lie, no lie, lie, lie You can't deny, deny, deny That beast inside, inside, inside Yeah, yeah, yeah\n"
     ]
    }
   ],
   "source": [
    "model = whisper.load_model('medium')\n",
    "\n",
    "results = model.transcribe(\"Maroon 5 - Animals (Official Music Video).mp4\")\n",
    "\n",
    "print(results['text'])"
   ]
  },
  {
   "cell_type": "markdown",
   "id": "59f989bf-fe87-406b-82ce-bca782c50290",
   "metadata": {},
   "source": [
    "# Transcribing tamil songs"
   ]
  },
  {
   "cell_type": "code",
   "execution_count": 3,
   "id": "b43da835",
   "metadata": {},
   "outputs": [
    {
     "data": {
      "text/plain": [
       "'C:\\\\Users\\\\Mohan krishnan\\\\Projects\\\\OpenAi whisper\\\\வாரணம் ஆயிரம் - ஏத்தி ஏத்தி தமிழ் பாடல்வரிகள்  சூரிய.mp4'"
      ]
     },
     "execution_count": 3,
     "metadata": {},
     "output_type": "execute_result"
    }
   ],
   "source": [
    "#importing the tamil video\n",
    "\n",
    "video = 'https://youtu.be/4stHboFNIbA'\n",
    "data = pytube.YouTube(video)\n",
    "\n",
    "audio = data.streams.get_audio_only()\n",
    "audio.download()"
   ]
  },
  {
   "cell_type": "code",
   "execution_count": 4,
   "id": "885e90ea",
   "metadata": {
    "scrolled": true
   },
   "outputs": [
    {
     "name": "stdout",
     "output_type": "stream",
     "text": [
      " தீர்த்தின்கே tonight women pendid Watchடிவுரச் செய்து கூறு வேண்டும் ப Hah திரம்படீர்த்து கலோதர் ரொவுன் si ராற் Cathedral சோடம் ராற் ரூபி ஷ்ராட் ஆன் சுட்டாத நர்பு...பட்டட புருப்பு... எச்சி எச்சி எச்சி என்னெடும் தீயே எச்சி மாற்தி மாற்தி மாற்தி என் தையில் கொஞ்சம் மாற்தி சுத்துவாது தெரியாது... சுத்தம் தந்தம் ராசா... சுத்தம் பத்தம் கிடையாது... மோகதைத் தழ்வுல் லேசா...ுேக்! ஓய்! ஓடு walk, 你ாப்புகை, Șiேரவாலர மறந்து தெரிவின் ஓலமந்தாவன் கொடு?ً.. பஸ்கியேந்தா பல அடிப்போமே ஆர்ணோல்ட போல ஏத்து அம்ச 근데போம் ஏதாவது சொன்னை வந்தால் ஆட்சுகோம் டாவ் ரோம் ரோண்டு கட்டி கிளப்புங்கடா? இங்கு வந்த திர billions பவறு கட்டி நொறுக்குங்கடா? பறக்கே லக்கைகள் எதுக்கு? க 해�ாடி போல போவோம் டா மெ encour நான் scrach's மாதிமாதி, மாதிமாதி, அமாமாப்பாப்பாமா. சூதுவாது தெரியாது. உட்கச் சிந்தன் ராஜா. சுத்தப் பத்தம் கிடையாது. உகதில் பருள் லேசா. ரா ஜா, நான் ரா ஜா. பெண் இடம் கெண்டு பேர் ரா ஜா. ரா ஜா, நான் ரா ஜா. சென்சாத ஏங்கிலும் ரோஜா. ராஜா நான் ராஜா உன்னிடம் இருக்கும்டான் ராஜா ராஜா நான் ராஜா என்னை நான் கொள்ளுங்கடான் ராஜா\n"
     ]
    }
   ],
   "source": [
    "model = whisper.load_model('medium')\n",
    "results = model.transcribe('வாரணம் ஆயிரம் - ஏத்தி ஏத்தி தமிழ் பாடல்வரிகள்  சூரிய.mp4', fp16=False)\n",
    "print(results['text'])"
   ]
  },
  {
   "cell_type": "code",
   "execution_count": 8,
   "id": "70e27f32",
   "metadata": {},
   "outputs": [
    {
     "ename": "NameError",
     "evalue": "name 'whisper' is not defined",
     "output_type": "error",
     "traceback": [
      "\u001b[1;31m---------------------------------------------------------------------------\u001b[0m",
      "\u001b[1;31mNameError\u001b[0m                                 Traceback (most recent call last)",
      "Input \u001b[1;32mIn [8]\u001b[0m, in \u001b[0;36m<cell line: 1>\u001b[1;34m()\u001b[0m\n\u001b[1;32m----> 1\u001b[0m model \u001b[38;5;241m=\u001b[39m \u001b[43mwhisper\u001b[49m\u001b[38;5;241m.\u001b[39mload_model(\u001b[38;5;124m'\u001b[39m\u001b[38;5;124mmedium\u001b[39m\u001b[38;5;124m'\u001b[39m)\n\u001b[0;32m      2\u001b[0m results \u001b[38;5;241m=\u001b[39m model\u001b[38;5;241m.\u001b[39mtranscribe(\u001b[38;5;124m'\u001b[39m\u001b[38;5;124mவாரணம் ஆயிரம் - ஏத்தி ஏத்தி தமிழ் பாடல்வரிகள்  சூரிய.mp4\u001b[39m\u001b[38;5;124m'\u001b[39m, fp16\u001b[38;5;241m=\u001b[39m\u001b[38;5;28;01mFalse\u001b[39;00m)\n\u001b[0;32m      3\u001b[0m \u001b[38;5;28mprint\u001b[39m(results[\u001b[38;5;124m'\u001b[39m\u001b[38;5;124mtext\u001b[39m\u001b[38;5;124m'\u001b[39m])\n",
      "\u001b[1;31mNameError\u001b[0m: name 'whisper' is not defined"
     ]
    }
   ],
   "source": [
    "model = whisper.load_model('medium')\n",
    "results = model.transcribe('வாரணம் ஆயிரம் - ஏத்தி ஏத்தி தமிழ் பாடல்வரிகள்  சூரிய.mp4', fp16=False)\n",
    "print(results['text'])"
   ]
  },
  {
   "cell_type": "code",
   "execution_count": null,
   "id": "1208bca6",
   "metadata": {},
   "outputs": [],
   "source": []
  }
 ],
 "metadata": {
  "kernelspec": {
   "display_name": "Python 3 (ipykernel)",
   "language": "python",
   "name": "python3"
  },
  "language_info": {
   "codemirror_mode": {
    "name": "ipython",
    "version": 3
   },
   "file_extension": ".py",
   "mimetype": "text/x-python",
   "name": "python",
   "nbconvert_exporter": "python",
   "pygments_lexer": "ipython3",
   "version": "3.11.4"
  }
 },
 "nbformat": 4,
 "nbformat_minor": 5
}
