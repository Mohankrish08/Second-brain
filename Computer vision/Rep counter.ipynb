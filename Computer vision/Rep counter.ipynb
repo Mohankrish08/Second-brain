{
 "cells": [
  {
   "cell_type": "markdown",
   "id": "85a37cd7",
   "metadata": {},
   "source": [
    "# Importing Dependencies "
   ]
  },
  {
   "cell_type": "code",
   "execution_count": 1,
   "id": "f103ea2d",
   "metadata": {},
   "outputs": [],
   "source": [
    "import mediapipe as mp\n",
    "import cv2\n",
    "import matplotlib.pyplot as plt\n",
    "import numpy as np"
   ]
  },
  {
   "cell_type": "markdown",
   "id": "bb40f472",
   "metadata": {},
   "source": [
    "# Defining Functions "
   ]
  },
  {
   "cell_type": "code",
   "execution_count": 2,
   "id": "b112dec5",
   "metadata": {},
   "outputs": [],
   "source": [
    "mp_drawing = mp.solutions.drawing_utils\n",
    "mp_pose = mp.solutions.pose"
   ]
  },
  {
   "cell_type": "markdown",
   "id": "ed8e1dae",
   "metadata": {},
   "source": [
    "# Detection model function "
   ]
  },
  {
   "cell_type": "code",
   "execution_count": 3,
   "id": "63966aba",
   "metadata": {},
   "outputs": [],
   "source": [
    "def mediapipe_detection(image,model):\n",
    "#     image = cv2.cvtColor(image, cv2.COLOR_BGR2RGB)\n",
    "#     image.flags.writeable = False\n",
    "    results = model.process(image)\n",
    "#     image.flags.writeable = True\n",
    "    return image, results"
   ]
  },
  {
   "cell_type": "markdown",
   "id": "0116f34c",
   "metadata": {},
   "source": [
    "# Draw landmarks for the model "
   ]
  },
  {
   "cell_type": "code",
   "execution_count": 4,
   "id": "120a090e",
   "metadata": {},
   "outputs": [],
   "source": [
    "def draw_landmarks(image, results):\n",
    "    mp_drawing.draw_landmarks(image, results.pose_landmarks, mp_pose.POSE_CONNECTIONS,\n",
    "                                mp_drawing.DrawingSpec(color=(245,117,66), thickness=2, circle_radius=2), \n",
    "                                mp_drawing.DrawingSpec(color=(245,66,230), thickness=2, circle_radius=2) \n",
    "                                 )"
   ]
  },
  {
   "cell_type": "markdown",
   "id": "87eb2469",
   "metadata": {},
   "source": [
    "# Sample video testing "
   ]
  },
  {
   "cell_type": "code",
   "execution_count": 5,
   "id": "c434d5c0",
   "metadata": {},
   "outputs": [],
   "source": [
    "cap = cv2.VideoCapture(0)\n",
    "with mp_pose.Pose(min_detection_confidence=0.5, min_tracking_confidence=0.5) as pose:\n",
    "    \n",
    "    while True:\n",
    "        \n",
    "        ret,frame = cap.read()\n",
    "        \n",
    "        image, results = mediapipe_detection(frame,pose)\n",
    "        \n",
    "        draw_landmarks(image, results)\n",
    "        \n",
    "        \n",
    "        cv2.imshow(\"Sample video\", image)\n",
    "        \n",
    "        if cv2.waitKey(1) & 0xFF == ord('q'):\n",
    "            break\n",
    "    cap.release()\n",
    "    cv2.destroyAllWindows()"
   ]
  },
  {
   "cell_type": "markdown",
   "id": "759c08c7",
   "metadata": {},
   "source": [
    "# Landmarks for the program"
   ]
  },
  {
   "cell_type": "code",
   "execution_count": 6,
   "id": "d3d1d092",
   "metadata": {},
   "outputs": [
    {
     "name": "stdout",
     "output_type": "stream",
     "text": [
      "[x: 0.6013217\n",
      "y: 0.44026327\n",
      "z: -1.025774\n",
      "visibility: 0.9998143\n",
      ", x: 0.6231283\n",
      "y: 0.38302532\n",
      "z: -0.9633762\n",
      "visibility: 0.9996922\n",
      ", x: 0.63744396\n",
      "y: 0.38220128\n",
      "z: -0.96365625\n",
      "visibility: 0.9996667\n",
      ", x: 0.6479234\n",
      "y: 0.382522\n",
      "z: -0.9639534\n",
      "visibility: 0.99962187\n",
      ", x: 0.5760908\n",
      "y: 0.38875973\n",
      "z: -0.96709144\n",
      "visibility: 0.99973965\n",
      ", x: 0.55946827\n",
      "y: 0.39139727\n",
      "z: -0.96682054\n",
      "visibility: 0.999764\n",
      ", x: 0.5448307\n",
      "y: 0.39401445\n",
      "z: -0.96722746\n",
      "visibility: 0.99976987\n",
      ", x: 0.6654395\n",
      "y: 0.4081721\n",
      "z: -0.5756644\n",
      "visibility: 0.99963945\n",
      ", x: 0.5283865\n",
      "y: 0.42209625\n",
      "z: -0.5817853\n",
      "visibility: 0.9998288\n",
      ", x: 0.63250405\n",
      "y: 0.4943075\n",
      "z: -0.88092214\n",
      "visibility: 0.9998738\n",
      ", x: 0.57338554\n",
      "y: 0.5000746\n",
      "z: -0.88228494\n",
      "visibility: 0.9999145\n",
      ", x: 0.8098198\n",
      "y: 0.7292662\n",
      "z: -0.28283337\n",
      "visibility: 0.9974684\n",
      ", x: 0.41927013\n",
      "y: 0.7362031\n",
      "z: -0.38274628\n",
      "visibility: 0.99763423\n",
      ", x: 0.9527502\n",
      "y: 0.960179\n",
      "z: -0.22109215\n",
      "visibility: 0.4658201\n",
      ", x: 0.3022582\n",
      "y: 0.98350483\n",
      "z: -0.46166486\n",
      "visibility: 0.5355372\n",
      ", x: 1.1147717\n",
      "y: 1.2760422\n",
      "z: -0.58778244\n",
      "visibility: 0.13304171\n",
      ", x: 0.25096536\n",
      "y: 1.3625742\n",
      "z: -1.0252559\n",
      "visibility: 0.18461625\n",
      ", x: 1.1749531\n",
      "y: 1.3422759\n",
      "z: -0.6860134\n",
      "visibility: 0.13154578\n",
      ", x: 0.2313079\n",
      "y: 1.4526147\n",
      "z: -1.1657727\n",
      "visibility: 0.16931352\n",
      ", x: 1.1533418\n",
      "y: 1.3517048\n",
      "z: -0.7813268\n",
      "visibility: 0.19438061\n",
      ", x: 0.27060705\n",
      "y: 1.4392885\n",
      "z: -1.2612574\n",
      "visibility: 0.24299079\n",
      ", x: 1.116565\n",
      "y: 1.3356432\n",
      "z: -0.64743245\n",
      "visibility: 0.18369012\n",
      ", x: 0.28615087\n",
      "y: 1.4092994\n",
      "z: -1.084606\n",
      "visibility: 0.22685146\n",
      ", x: 0.7564359\n",
      "y: 1.4305384\n",
      "z: -0.047976412\n",
      "visibility: 0.0021962482\n",
      ", x: 0.50087714\n",
      "y: 1.4404389\n",
      "z: 0.051868927\n",
      "visibility: 0.0019736658\n",
      ", x: 0.7548692\n",
      "y: 1.9947145\n",
      "z: -0.12642807\n",
      "visibility: 0.0034144507\n",
      ", x: 0.5125475\n",
      "y: 2.00517\n",
      "z: -0.09504996\n",
      "visibility: 0.00087873026\n",
      ", x: 0.7612416\n",
      "y: 2.5123951\n",
      "z: 0.3772052\n",
      "visibility: 0.00028448363\n",
      ", x: 0.5173621\n",
      "y: 2.5236547\n",
      "z: 0.22325364\n",
      "visibility: 6.466982e-05\n",
      ", x: 0.7675985\n",
      "y: 2.5955212\n",
      "z: 0.3930101\n",
      "visibility: 0.00015970532\n",
      ", x: 0.51653206\n",
      "y: 2.6093142\n",
      "z: 0.23428468\n",
      "visibility: 0.00011014421\n",
      ", x: 0.7252443\n",
      "y: 2.6628177\n",
      "z: -0.16260949\n",
      "visibility: 0.00024504217\n",
      ", x: 0.5493893\n",
      "y: 2.6669981\n",
      "z: -0.36348885\n",
      "visibility: 0.00026088487\n",
      "]\n"
     ]
    }
   ],
   "source": [
    "landmarks = results.pose_landmarks.landmark\n",
    "print(landmarks)"
   ]
  },
  {
   "cell_type": "markdown",
   "id": "ee8e70b1",
   "metadata": {},
   "source": [
    "# Checking the landmarks "
   ]
  },
  {
   "cell_type": "code",
   "execution_count": 7,
   "id": "3d3a631c",
   "metadata": {},
   "outputs": [
    {
     "data": {
      "text/plain": [
       "x: 0.3022582\n",
       "y: 0.98350483\n",
       "z: -0.46166486\n",
       "visibility: 0.5355372"
      ]
     },
     "execution_count": 7,
     "metadata": {},
     "output_type": "execute_result"
    }
   ],
   "source": [
    "landmarks[mp_pose.PoseLandmark.RIGHT_ELBOW]"
   ]
  },
  {
   "cell_type": "code",
   "execution_count": 8,
   "id": "5269ca35",
   "metadata": {},
   "outputs": [
    {
     "data": {
      "text/plain": [
       "x: 0.41927013\n",
       "y: 0.7362031\n",
       "z: -0.38274628\n",
       "visibility: 0.99763423"
      ]
     },
     "execution_count": 8,
     "metadata": {},
     "output_type": "execute_result"
    }
   ],
   "source": [
    "landmarks[mp_pose.PoseLandmark.RIGHT_SHOULDER]"
   ]
  },
  {
   "cell_type": "code",
   "execution_count": 9,
   "id": "c9884825",
   "metadata": {
    "scrolled": true
   },
   "outputs": [
    {
     "data": {
      "text/plain": [
       "x: 0.25096536\n",
       "y: 1.3625742\n",
       "z: -1.0252559\n",
       "visibility: 0.18461625"
      ]
     },
     "execution_count": 9,
     "metadata": {},
     "output_type": "execute_result"
    }
   ],
   "source": [
    "landmarks[mp_pose.PoseLandmark.RIGHT_WRIST]"
   ]
  },
  {
   "cell_type": "markdown",
   "id": "7e7d5334",
   "metadata": {},
   "source": [
    "# Calculating the angle "
   ]
  },
  {
   "cell_type": "code",
   "execution_count": 18,
   "id": "0244c4f1",
   "metadata": {},
   "outputs": [],
   "source": [
    "def calculate_angle(a,b,c):\n",
    "    a = np.array(a)\n",
    "    b = np.array(b)\n",
    "    c = np.array(c)\n",
    "    \n",
    "    radians = np.arctan2(c[1]-b[1], c[0]-b[0]) - np.arctan2(a[1]-b[1], a[0]-b[0])\n",
    "    angle = np.abs(radians*180.0/np.pi)\n",
    "    \n",
    "    if angle > 180.0:\n",
    "        angle = 360-angle\n",
    "        \n",
    "    return angle"
   ]
  },
  {
   "cell_type": "code",
   "execution_count": 16,
   "id": "c9c06b94",
   "metadata": {},
   "outputs": [],
   "source": [
    "def hands():\n",
    "    wrist = [landmarks[mp_pose.PoseLandmark.RIGHT_WRIST].x, landmarks[mp_pose.PoseLandmark.RIGHT_WRIST].y]\n",
    "    Elbow = [landmarks[mp_pose.PoseLandmark.RIGHT_ELBOW].x, landmarks[mp_pose.PoseLandmark.RIGHT_ELBOW].y]\n",
    "    shoulder = [landmarks[mp_pose.PoseLandmark.RIGHT_SHOULDER].x, landmarks[mp_pose.PoseLandmark.RIGHT_SHOULDER].y]\n",
    "    "
   ]
  },
  {
   "cell_type": "markdown",
   "id": "2863f690",
   "metadata": {},
   "source": [
    "# Driver code "
   ]
  },
  {
   "cell_type": "code",
   "execution_count": 20,
   "id": "c2d0d8ee",
   "metadata": {},
   "outputs": [
    {
     "name": "stdout",
     "output_type": "stream",
     "text": [
      "1\n",
      "2\n",
      "3\n",
      "4\n"
     ]
    }
   ],
   "source": [
    "cap = cv2.VideoCapture(0)\n",
    "\n",
    "# Curl counter variables\n",
    "counter = 0 \n",
    "stage = None\n",
    "\n",
    "## Setup mediapipe instance\n",
    "with mp_pose.Pose(min_detection_confidence=0.5, min_tracking_confidence=0.5) as pose:\n",
    "    while cap.isOpened():\n",
    "        ret, frame = cap.read()\n",
    "        \n",
    "        # Recolor image to RGB\n",
    "        image = cv2.cvtColor(frame, cv2.COLOR_BGR2RGB)\n",
    "        image.flags.writeable = False\n",
    "      \n",
    "        # Make detection\n",
    "        results = pose.process(image)\n",
    "    \n",
    "        # Recolor back to BGR\n",
    "        image.flags.writeable = True\n",
    "        image = cv2.cvtColor(image, cv2.COLOR_RGB2BGR)\n",
    "        \n",
    "        \n",
    "        try:\n",
    "            landmarks = results.pose_landmarks.landmark\n",
    "            \n",
    "            # Get coordinates\n",
    "            shoulder = [landmarks[mp_pose.PoseLandmark.RIGHT_SHOULDER.value].x,landmarks[mp_pose.PoseLandmark.RIGHT_SHOULDER.value].y]\n",
    "            elbow = [landmarks[mp_pose.PoseLandmark.RIGHT_ELBOW.value].x,landmarks[mp_pose.PoseLandmark.RIGHT_ELBOW.value].y]\n",
    "            wrist = [landmarks[mp_pose.PoseLandmark.RIGHT_WRIST.value].x,landmarks[mp_pose.PoseLandmark.RIGHT_WRIST.value].y]\n",
    "            \n",
    "            # Calculate angle\n",
    "            angle = calculate_angle(shoulder, elbow, wrist)\n",
    "            \n",
    "            # Visualize angle\n",
    "            cv2.putText(image, str(angle), \n",
    "                           tuple(np.multiply(elbow, [640, 480]).astype(int)), \n",
    "                           cv2.FONT_HERSHEY_SIMPLEX, 0.5, (255, 255, 255), 2, cv2.LINE_AA\n",
    "                                )\n",
    "            \n",
    "            # Curl counter logic\n",
    "            if angle > 140:\n",
    "                stage = \"down\"\n",
    "            if angle < 90 and stage =='down':\n",
    "                stage=\"up\"\n",
    "                counter +=1\n",
    "                print(counter)\n",
    "                       \n",
    "        except:\n",
    "            pass\n",
    "        \n",
    "        cv2.rectangle(image, (0,0), (225,73), (245,117,16), -1)\n",
    "        \n",
    "        # Rep data\n",
    "        cv2.putText(image, 'REPS', (15,12), \n",
    "                    cv2.FONT_HERSHEY_SIMPLEX, 0.5, (0,0,0), 1, cv2.LINE_AA)\n",
    "        cv2.putText(image, str(counter), \n",
    "                    (10,60), \n",
    "                    cv2.FONT_HERSHEY_SIMPLEX, 2, (255,255,255), 2, cv2.LINE_AA)\n",
    "        \n",
    "        # Stage data\n",
    "        cv2.putText(image, 'STAGE', (65,12), \n",
    "                    cv2.FONT_HERSHEY_SIMPLEX, 0.5, (0,0,0), 1, cv2.LINE_AA)\n",
    "        cv2.putText(image, stage, \n",
    "                    (60,60), \n",
    "                    cv2.FONT_HERSHEY_SIMPLEX, 2, (255,255,255), 2, cv2.LINE_AA)\n",
    "        \n",
    "        \n",
    "        # Render detections\n",
    "        mp_drawing.draw_landmarks(image, results.pose_landmarks, mp_pose.POSE_CONNECTIONS,\n",
    "                                mp_drawing.DrawingSpec(color=(245,117,66), thickness=2, circle_radius=2), \n",
    "                                mp_drawing.DrawingSpec(color=(245,66,230), thickness=2, circle_radius=2) \n",
    "                                 )               \n",
    "        \n",
    "        cv2.imshow('Mediapipe Feed', image)\n",
    "\n",
    "        if cv2.waitKey(10) & 0xFF == ord('q'):\n",
    "            break\n",
    "\n",
    "    cap.release()\n",
    "    cv2.destroyAllWindows()"
   ]
  },
  {
   "cell_type": "code",
   "execution_count": null,
   "id": "42c814ff",
   "metadata": {},
   "outputs": [],
   "source": []
  }
 ],
 "metadata": {
  "kernelspec": {
   "display_name": "Python 3 (ipykernel)",
   "language": "python",
   "name": "python3"
  },
  "language_info": {
   "codemirror_mode": {
    "name": "ipython",
    "version": 3
   },
   "file_extension": ".py",
   "mimetype": "text/x-python",
   "name": "python",
   "nbconvert_exporter": "python",
   "pygments_lexer": "ipython3",
   "version": "3.10.0"
  }
 },
 "nbformat": 4,
 "nbformat_minor": 5
}
